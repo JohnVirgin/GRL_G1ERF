{
 "cells": [
  {
   "cell_type": "code",
   "execution_count": 1,
   "metadata": {},
   "outputs": [],
   "source": [
    "import numpy as np\n",
    "import pandas as pd\n",
    "import pickle as pk\n",
    "from matplotlib import pyplot as plt\n",
    "import matplotlib as mpl\n",
    "import cartopy.crs as ccrs\n",
    "from cartopy.util import add_cyclic_point\n",
    "%matplotlib inline\n",
    "mpl.rc('font',size=21,**{'family':'sans-serif','sans-serif':['Arial']})"
   ]
  },
  {
   "cell_type": "code",
   "execution_count": 2,
   "metadata": {},
   "outputs": [],
   "source": [
    "wd = '/Volumes/eSSD0/Papers/GRL_G1RF/'\n",
    "x4 = pk.load(open(wd+'data/EB/piClim-abrupt-4xCO2_EB_gam.pi','rb'))\n",
    "sol = pk.load(open(wd+'data/EB/piClim-abrupt-SOLr_EB_gam.pi','rb'))\n",
    "G1 = pk.load(open(wd+'data/EB/piClim-G1_EB_gam.pi','rb'))\n",
    "\n",
    "G1l = {}\n",
    "resid = {}\n",
    "for var in G1:\n",
    "    G1l[var] = x4[var]+sol[var]\n",
    "    resid[var] = G1[var]-G1l[var]\n",
    "\n",
    "\n",
    "data = {}\n",
    "data['x4'] = x4\n",
    "data['sol'] = sol\n",
    "data['G1'] = G1\n",
    "irf = {}\n",
    "net = {}\n",
    "\n",
    "for keys in data.keys():\n",
    "    irf[keys] = data[keys].pop('IRF')\n",
    "    data[keys].pop('cld_sw')\n",
    "    data[keys].pop('cld_lw')\n",
    "    net[keys] = np.sum(list(data[keys].values()))\n",
    "\n",
    "adj_list = list(data['x4'].keys())"
   ]
  },
  {
   "cell_type": "code",
   "execution_count": 6,
   "metadata": {},
   "outputs": [
    {
     "data": {
      "text/plain": [
       "1307.0400000000002"
      ]
     },
     "execution_count": 6,
     "metadata": {},
     "output_type": "execute_result"
    }
   ],
   "source": [
    "erf = {}\n",
    "erf['x4'] = irf['x4']+net['x4']\n",
    "new_x4 = erf['x4']+(0.4+1.14)\n",
    "\n",
    "def Calc_s0(ERF,alpha):\n",
    "    ERF_adj = ERF\n",
    "    s0 = round((ERF_adj/(1-alpha))*4,2)\n",
    "    return s0\n",
    "\n",
    "s0 = Calc_s0(new_x4,0.35)\n",
    "new_solar = 1360.89-s0\n",
    "new_solar"
   ]
  },
  {
   "cell_type": "code",
   "execution_count": 4,
   "metadata": {},
   "outputs": [
    {
     "data": {
      "text/plain": [
       "7.21"
      ]
     },
     "execution_count": 4,
     "metadata": {},
     "output_type": "execute_result"
    }
   ],
   "source": [
    "erf['x4']"
   ]
  },
  {
   "cell_type": "code",
   "execution_count": null,
   "metadata": {},
   "outputs": [],
   "source": []
  }
 ],
 "metadata": {
  "interpreter": {
   "hash": "31f2aee4e71d21fbe5cf8b01ff0e069b9275f58929596ceb00d14d90e3e16cd6"
  },
  "kernelspec": {
   "display_name": "Python 3.8.5 64-bit",
   "name": "python3"
  },
  "language_info": {
   "codemirror_mode": {
    "name": "ipython",
    "version": 3
   },
   "file_extension": ".py",
   "mimetype": "text/x-python",
   "name": "python",
   "nbconvert_exporter": "python",
   "pygments_lexer": "ipython3",
   "version": "3.8.5"
  },
  "orig_nbformat": 4
 },
 "nbformat": 4,
 "nbformat_minor": 2
}
